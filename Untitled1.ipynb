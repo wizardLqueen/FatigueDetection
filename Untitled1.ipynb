{
 "cells": [
  {
   "cell_type": "code",
   "execution_count": 1,
   "metadata": {},
   "outputs": [
    {
     "name": "stderr",
     "output_type": "stream",
     "text": [
      "/Library/Python/2.7/site-packages/sklearn/cross_validation.py:44: DeprecationWarning: This module was deprecated in version 0.18 in favor of the model_selection module into which all the refactored classes and functions are moved. Also note that the interface of the new CV iterators are different from that of this module. This module will be removed in 0.20.\n",
      "  \"This module will be removed in 0.20.\", DeprecationWarning)\n",
      "/Library/Python/2.7/site-packages/sklearn/grid_search.py:43: DeprecationWarning: This module was deprecated in version 0.18 in favor of the model_selection module into which all the refactored classes and functions are moved. This module will be removed in 0.20.\n",
      "  DeprecationWarning)\n"
     ]
    }
   ],
   "source": [
    "import cv2\n",
    "import pandas as pd\n",
    "import time\n",
    "from sklearn.pipeline import *\n",
    "import sklearn\n",
    "import matplotlib.pyplot as plt\n",
    "from sklearn.decomposition import *\n",
    "from sklearn.svm import *\n",
    "from sklearn.externals import joblib\n",
    "import skflow\n",
    "from sklearn.metrics import *\n",
    "from sklearn.preprocessing import *\n",
    "from sklearn import cross_validation\n",
    "from sklearn.grid_search import GridSearchCV\n",
    "from sklearn import metrics\n",
    "import dlib\n",
    "import numpy as np\n",
    "import img_process\n",
    "from progressbar import *\n",
    "import features\n",
    "import random\n",
    "PIC_PATH = '/Users/apple/Desktop/FatigueDetection/FACE_BAG/My_Own_Pic/'\n",
    "SHAPE_PATH = '/Users/apple/Downloads/shape_predictor_68_face_landmarks.dat'\n",
    "SLEEP_PATH = '/Users/apple/Desktop/FatigueDetection/FACE_BAG/My_Own_Pic/TRAIN_PIC/Sleep/'\n",
    "AWAKE_PATH = '/Users/apple/Desktop/FatigueDetection/FACE_BAG/My_Own_Pic/TRAIN_PIC/Awake/'\n",
    "TEST_PATH = PIC_PATH + 'TEST_PIC/' \n",
    "detector = dlib.get_frontal_face_detector()\n",
    "landmark_predictor = dlib.shape_predictor(SHAPE_PATH)\n",
    "face = dlib.rectangle(left = 0,top = 0,bottom = 320,right = 320)\n",
    "MODEL_NAME = ''\n",
    "CELL_SIZE = (32,32)"
   ]
  },
  {
   "cell_type": "code",
   "execution_count": 2,
   "metadata": {
    "collapsed": true
   },
   "outputs": [],
   "source": [
    "\n",
    "class block:\n",
    "    id = 0\n",
    "    label = 0\n",
    "    def __init__(self,id,label):\n",
    "        self.id = id\n",
    "        self.label = label\n"
   ]
  },
  {
   "cell_type": "code",
   "execution_count": 3,
   "metadata": {},
   "outputs": [],
   "source": [
    "X_train = []\n",
    "Y_train = []\n",
    "All_block = []\n",
    "def preData():\n",
    "    pbr = ProgressBar(maxval = 660)\n",
    "    global All_block,X_train,Y_train\n",
    "    now = time.time()\n",
    "    print 'Data process...'\n",
    "    for i in range(440):\n",
    "        All_block.append(block(i,1))\n",
    "    for i in range(220):  \n",
    "        All_block.append(block(i+440,0))\n",
    "    random.shuffle(All_block)\n",
    "    pbr.start()\n",
    "    for i in range(660):\n",
    "        pbr.update(i)\n",
    "        id = All_block[i].id\n",
    "        label = All_block[i].label\n",
    "        Y_train.append(label)\n",
    "        path = AWAKE_PATH\n",
    "        if label == 0:\n",
    "            id -= 440\n",
    "            path  = SLEEP_PATH\n",
    "        left_eye = cv2.imread(path+'LeftEyes/'+str(id)+'.jpeg',0)\n",
    "        right_eye = cv2.imread(path + 'RightEyes/' + str(id) + '.jpeg',0)\n",
    "        mouth  = cv2.imread(path + 'Mouth/' + str(id) + '.jpeg',0)\n",
    "        left_lbp = img_process.getLBPFeatures(left_eye,CELL_SIZE)\n",
    "        right_lbp = img_process.getLBPFeatures(right_eye,CELL_SIZE)\n",
    "        mouth_lbp = img_process.getLBPFeatures(mouth,CELL_SIZE)\n",
    "        feature = np.concatenate((left_lbp,right_lbp,mouth_lbp))\n",
    "        X_train.append(feature)\n",
    "    pbr.finish()\n",
    "    X_train = np.array(X_train)\n",
    "    print X_train.shape\n",
    "    print 'End\\nCost Time:' + str(time.time() - now)"
   ]
  },
  {
   "cell_type": "code",
   "execution_count": 4,
   "metadata": {
    "collapsed": true
   },
   "outputs": [],
   "source": [
    "def train():\n",
    "    global X_train,Y_train,MODEL_NAME\n",
    "    #print X_train,Y_train\n",
    "    #pca = PCA(n_components=100)\n",
    "    #tmp = pca.fit_transform(X_train)\n",
    "    clf = Pipeline([('ss',StandardScaler()),\n",
    "                    ('pca',PCA(whiten = True)),\n",
    "                    ('svc',SVC())])\n",
    "    par = [\n",
    "            {'svc__kernel':['rbf'],\n",
    "             'svc__gamma':np.logspace(-3,1,5),\n",
    "             'svc__C':np.logspace(-1,1,3),\n",
    "             'pca__n_components':[int(i) for i in range(100,201,100)]\n",
    "            }\n",
    "          ]\n",
    "    print par\n",
    "    gs = GridSearchCV(clf,param_grid = par,cv = 3,refit = True,verbose = 2,n_jobs = -1 )\n",
    "    gs.fit(X_train,Y_train)\n",
    "    print(\"Best parameters set found on development set:\\n\")\n",
    "    print gs.best_params_\n",
    "    print ''\n",
    "    print 'Grid scores on development set:+\\n'\n",
    "    for parms,mean_score,scores in gs.grid_scores_:\n",
    "        print \"%0.5f (+/-%0.5f) for %r\" %(mean_score,scores.std()*2,parms)\n",
    "    print ''\n",
    "    print 'Detailed Report+\\n'\n",
    "    print 'The model is trained on the full development set.'\n",
    "    print 'The score are computed on the full evaluation set\\n'\n",
    "    MODEL_NAME = str(gs.best_params_)+'split_lbp_svm.m'\n",
    "    joblib.dump(gs,MODEL_NAME)"
   ]
  },
  {
   "cell_type": "code",
   "execution_count": 5,
   "metadata": {},
   "outputs": [],
   "source": [
    "X_test = []\n",
    "Y_test = []\n",
    "def preTest():\n",
    "    global X_test,Y_test\n",
    "    pbr = ProgressBar(maxval = 30)\n",
    "    pbr.start()\n",
    "    for i in range(1,31):\n",
    "        pbr.update(i)\n",
    "        id = i\n",
    "        label = 1\n",
    "        path = TEST_PATH + 'Awake/'\n",
    "        if i > 23:\n",
    "            path = TEST_PATH + 'Sleep/'\n",
    "            id -= 23\n",
    "            label = 0\n",
    "        img = cv2.imread(path+str(id)+'.jpeg',0)\n",
    "        img = cv2.resize(img,(320,320))\n",
    "        shape = landmark_predictor(img,face)\n",
    "        img,shape= img_process.getRotImg(img,shape)\n",
    "        left_eye,t= img_process.getLeftEye(img,shape)\n",
    "        right_eye,t = img_process.getRightEye(img,shape)\n",
    "        mouth,t = img_process.getMouth(img,shape)\n",
    "        left_eye = cv2.resize(left_eye,(64,32))\n",
    "        right_eye = cv2.resize(right_eye,(64,32))\n",
    "        mouth = cv2.resize(mouth,(64,64))\n",
    "        #cv2.imshow('GG1',left_eye)\n",
    "        #cv2.imshow('GG2',right_eye)\n",
    "        #cv2.imshow('GG3',mouth)\n",
    "        #key = cv2.waitKey(0)\n",
    "        #if key == ord('q'):\n",
    "        #    break\n",
    "        left_lbp = img_process.getLBPFeatures(left_eye,CELL_SIZE)\n",
    "        right_lbp = img_process.getLBPFeatures(right_eye,CELL_SIZE)\n",
    "        mouth_lbp = img_process.getLBPFeatures(mouth,CELL_SIZE)\n",
    "        feature = np.concatenate((left_lbp,right_lbp,mouth_lbp))\n",
    "        X_test.append(feature)\n",
    "        Y_test.append(label)\n",
    "    pbr.finish()\n",
    "    X_test = np.array(X_test)\n",
    "    Y_test = np.array(Y_test)\n",
    "    print X_test,Y_test"
   ]
  },
  {
   "cell_type": "code",
   "execution_count": 6,
   "metadata": {
    "collapsed": true
   },
   "outputs": [],
   "source": [
    "def test():\n",
    "    global X_test,Y_test\n",
    "    clf = joblib.load(MODEL_NAME)\n",
    "    Y_predict = clf.predict(X_test)\n",
    "    print 'The Accuracy of the Model is ' + str(clf.score(X_test, Y_test))\n",
    "    print classification_report(Y_test, Y_predict)\n",
    "    print ''"
   ]
  },
  {
   "cell_type": "code",
   "execution_count": null,
   "metadata": {
    "scrolled": true
   },
   "outputs": [
    {
     "name": "stdout",
     "output_type": "stream",
     "text": [
      "Data process...\n"
     ]
    },
    {
     "name": "stderr",
     "output_type": "stream",
     "text": [
      " 99% |####################################################################### |\r"
     ]
    },
    {
     "name": "stdout",
     "output_type": "stream",
     "text": [
      "(660, 2048)\n",
      "End\n",
      "Cost Time:119.250832081\n",
      "[{'svc__gamma': array([  1.00000000e-03,   1.00000000e-02,   1.00000000e-01,\n",
      "         1.00000000e+00,   1.00000000e+01]), 'pca__n_components': [100, 200], 'svc__kernel': ['rbf'], 'svc__C': array([  0.1,   1. ,  10. ])}]\n",
      "Fitting 3 folds for each of 30 candidates, totalling 90 fits\n"
     ]
    },
    {
     "name": "stderr",
     "output_type": "stream",
     "text": [
      "100% |########################################################################|\r\n"
     ]
    },
    {
     "name": "stdout",
     "output_type": "stream",
     "text": [
      "[CV] svc__gamma=0.001, pca__n_components=100, svc__kernel=rbf, svc__C=0.1 \n",
      "[CV] svc__gamma=0.001, pca__n_components=100, svc__kernel=rbf, svc__C=0.1 \n",
      "[CV] svc__gamma=0.001, pca__n_components=100, svc__kernel=rbf, svc__C=0.1 \n",
      "[CV] svc__gamma=0.01, pca__n_components=100, svc__kernel=rbf, svc__C=0.1 \n",
      "[CV] svc__gamma=0.01, pca__n_components=100, svc__kernel=rbf, svc__C=0.1 \n",
      "[CV] svc__gamma=0.01, pca__n_components=100, svc__kernel=rbf, svc__C=0.1 \n",
      "[CV] svc__gamma=0.1, pca__n_components=100, svc__kernel=rbf, svc__C=0.1 \n",
      "[CV] svc__gamma=0.1, pca__n_components=100, svc__kernel=rbf, svc__C=0.1 \n"
     ]
    }
   ],
   "source": [
    "if __name__ == '__main__':\n",
    "    preData()\n",
    "    train()\n",
    "    test()"
   ]
  },
  {
   "cell_type": "code",
   "execution_count": null,
   "metadata": {},
   "outputs": [],
   "source": []
  },
  {
   "cell_type": "code",
   "execution_count": null,
   "metadata": {},
   "outputs": [],
   "source": []
  },
  {
   "cell_type": "code",
   "execution_count": null,
   "metadata": {},
   "outputs": [],
   "source": []
  },
  {
   "cell_type": "code",
   "execution_count": null,
   "metadata": {
    "collapsed": true
   },
   "outputs": [],
   "source": []
  },
  {
   "cell_type": "code",
   "execution_count": null,
   "metadata": {
    "collapsed": true
   },
   "outputs": [],
   "source": []
  }
 ],
 "metadata": {
  "kernelspec": {
   "display_name": "Python 2",
   "language": "python",
   "name": "python2"
  },
  "language_info": {
   "codemirror_mode": {
    "name": "ipython",
    "version": 2
   },
   "file_extension": ".py",
   "mimetype": "text/x-python",
   "name": "python",
   "nbconvert_exporter": "python",
   "pygments_lexer": "ipython2",
   "version": "2.7.10"
  }
 },
 "nbformat": 4,
 "nbformat_minor": 2
}
